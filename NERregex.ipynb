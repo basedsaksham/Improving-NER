import re
import spacy
from datetime import datetime, timedelta

nlp = spacy.load("en_core_web_sm")

def detect_email(sentence):
    email_regex_pattern = '[A-Za-z0-9._%+-]*@[A-Za-z0-9.-]*\.[A-Z|a-z]*'
    emails_matches = re.findall(email_regex_pattern, sentence)
    return emails_matches
def detect_time(sentence):
    time_regex = r'\b(?:1[0-2]|0?[1-9])(?::[0-5][0-9])?(?:\s?[ap]m)?\b'
    times = re.findall(time_regex, sentence, re.IGNORECASE)
    return times
def detect_phone_numbers(sentence):
    phone_regex = r'(\(?\d{3}\)?[\s.-]?\d{3}[\s.-]?\d{4})'
    phone_numbers = re.findall(phone_regex, sentence)
    return phone_numbers
def detect_numbers_with_units(text):
    #pattern = pattern = '(\d+(?:\.\d+)?)(?:\s+)(\w+)'
    #matches = re.findall(pattern, text)
    #return matches
    # Regex pattern for detecting phone numbers
    phone_pattern = r'(\(?\d{3}\)?[\s.-]?\d{3}[\s.-]?\d{4})'

    # Find all phone numbers in the text
    phone_numbers = re.findall(phone_pattern, text)

    # Regex pattern for detecting numbers with units
    pattern = r'(?<!\d)(\d+(?:\.\d+)?)(?:\s+)(\w+)(?!\d)'

    # Find all matches of numbers with units in the text
    matches = re.findall(pattern, text)

    # Filter out numbers that are not phone numbers
    numbers_with_units = []
    for match in matches:
        number, unit = match
        if number not in phone_numbers:
            numbers_with_units.append((number, unit))

    return numbers_with_units
def detect_dates(text):
    # Current date
    today = datetime.now()

    # Define regex patterns for relative date expressions
    patterns = [
        r"(next|agle)\s+(monday|tuesday|wednesday|thursday|friday|saturday|sunday|somvar|mangalwar|budhwar|guruwar|shukrawar|shaniwar|raviwar)",
        r"(kal)",
        r"(next|agle)\s+(week|month|year|hafte|mahine|saal)"
    ]

    # Initialize empty list to store detected dates
    detected_dates = []

    # Iterate through patterns and search for matches in text
    for pattern in patterns:
        matches = re.findall(pattern, text.lower())
        for match in matches:
            if match[0] in ['next', 'agle']:
                if match[1] in ['monday', 'somvar']:
                    # Find next Monday
                    days_until_weekday = (today.weekday() - 1) % 7
                    next_date = today + timedelta(days=days_until_weekday )
                    detected_dates.append(next_date.strftime("%d-%m-%Y"))
                elif match[1] in ['tuesday', 'mangalwar']:
                    # Find next Tuesday
                    days_until_weekday = (today.weekday() - 0) % 7
                    next_date = today + timedelta(days=days_until_weekday )
                    detected_dates.append(next_date.strftime("%d-%m-%Y"))
                elif match[1] in ['wednesday', 'budhwar']:
                    # Find next Wednesday
                    days_until_weekday = (today.weekday() +1) % 7
                    next_date = today + timedelta(days=days_until_weekday )
                    detected_dates.append(next_date.strftime("%d-%m-%Y"))
                elif match[1] in ['thursday', 'guruwar']:
                    # Find next Thursday
                    days_until_weekday = (today.weekday() +2) % 7
                    next_date = today + timedelta(days=days_until_weekday )
                    detected_dates.append(next_date.strftime("%d-%m-%Y"))
                elif match[1] in ['friday', 'shukrawar']:
                    # Find next Friday
                    days_until_weekday = (today.weekday() +3) % 7
                    next_date = today + timedelta(days=days_until_weekday )
                    detected_dates.append(next_date.strftime("%d-%m-%Y"))
                elif match[1] in ['saturday', 'shaniwar']:
                    # Find next Saturday
                    days_until_weekday = (today.weekday() +4) % 7
                    next_date = today + timedelta(days=days_until_weekday )
                    detected_dates.append(next_date.strftime("%d-%m-%Y"))
                elif match[1] in ['sunday', 'raviwar']:
                    # Find next Sunday
                    days_until_weekday = (today.weekday() +5) % 7
                    next_date = today + timedelta(days=days_until_weekday )
                    detected_dates.append(next_date.strftime("%d-%m-%Y"))
                elif match[1] in ['week', 'hafte']:
                    # Find next week
                    next_date = today + timedelta(days=(7 - today.weekday())+6)
                    detected_dates.append(next_date.strftime("%d-%m-%Y"))
                elif match[1] in ['month', 'mahine']:
                    # Find next month
                    next_date = today.replace(day=1, month=today.month+1)
                    detected_dates.append(next_date.strftime("%d-%m-%Y"))
                elif match[1] in ['year', 'saal']:
                    # Find next year
                    next_date = today.replace(day=1, month=1, year=today.year+1)
                    detected_dates.append(next_date.strftime("%d-%m-%Y"))
            elif match[0] == 'kal':
                # Find tomorrow's date
                next_date = today + timedelta(1)
                detected_dates.append(next_date.strftime("%d-%m-%Y"))

    return detected_dates

def main():
    while True:
        user_input = input("Enter a sentence (or 'exit' to quit): ")
        if user_input.lower() == 'exit':
            break
        else:
            detected_emails = detect_email(user_input)
            detected_time =detect_time(user_input)
            detected_phone_numbers = detect_phone_numbers(user_input)
            detected_number_units = detect_numbers_with_units(user_input)
            detected_dates = detect_dates(user_input)
            if detected_emails:
                print("Detected email(s):", ", ".join(detected_emails))
            else:
                print("No email address detected.")
            if detected_time:
                print("Detected time(s):", ", ".join(detected_time))
            else:
                print("No time detected.")
            if detected_phone_numbers:
                print("Detected phone number(s):", ", ".join(detected_phone_numbers))
            else:
                print("No phone number detected.")
            if detected_number_units:
                print("Detected number(s) with respective units:")
                for match in detected_number_units:
                    number, unit = match
                    print(f"Number: {number}, Unit: {unit}")
            else:
                print("No numbers with respective units detected.")
            if detected_dates:
                print("Detected date(s):", ", ".join(detected_dates))
            else:
                print("No dates detected.")



if __name__ == "__main__":
    main()
